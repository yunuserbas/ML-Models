{
  "nbformat": 4,
  "nbformat_minor": 0,
  "metadata": {
    "colab": {
      "provenance": []
    },
    "kernelspec": {
      "name": "python3",
      "display_name": "Python 3"
    }
  },
  "cells": [
    {
      "cell_type": "markdown",
      "metadata": {
        "id": "v6t-vvMpLhAJ"
      },
      "source": [
        "# Execute the code below"
      ]
    },
    {
      "cell_type": "code",
      "metadata": {
        "id": "lqNi8-C9KhCq",
        "colab": {
          "base_uri": "https://localhost:8080/",
          "height": 424
        },
        "outputId": "87c3458f-39d9-4a5b-c550-e0c1d02235b1"
      },
      "source": [
        "import pandas as pd\n",
        "import seaborn as sns\n",
        "\n",
        "url = \"https://raw.githubusercontent.com/murpi/wilddata/master/quests/spotify.zip\"\n",
        "df_music = pd.read_csv(url)\n",
        "df_zoom = df_music.loc[df_music.genre.isin(['Country', 'Classical']), ['genre', 'duration_ms', 'speechiness']].reset_index(drop = True)\n",
        "df_zoom"
      ],
      "execution_count": 1,
      "outputs": [
        {
          "output_type": "execute_result",
          "data": {
            "text/plain": [
              "         genre  duration_ms  speechiness\n",
              "0      Country       200013       0.0444\n",
              "1      Country       208187       0.0569\n",
              "2      Country       123360       0.0960\n",
              "3      Country       238600       0.0368\n",
              "4      Country       243000       0.0330\n",
              "...        ...          ...          ...\n",
              "17915  Country       179147       0.0322\n",
              "17916  Country       230400       0.0832\n",
              "17917  Country       216093       0.0268\n",
              "17918  Country       179947       0.0909\n",
              "17919  Country       238173       0.0362\n",
              "\n",
              "[17920 rows x 3 columns]"
            ],
            "text/html": [
              "\n",
              "  <div id=\"df-a050d509-6eac-45c1-a8f1-6805ad996668\">\n",
              "    <div class=\"colab-df-container\">\n",
              "      <div>\n",
              "<style scoped>\n",
              "    .dataframe tbody tr th:only-of-type {\n",
              "        vertical-align: middle;\n",
              "    }\n",
              "\n",
              "    .dataframe tbody tr th {\n",
              "        vertical-align: top;\n",
              "    }\n",
              "\n",
              "    .dataframe thead th {\n",
              "        text-align: right;\n",
              "    }\n",
              "</style>\n",
              "<table border=\"1\" class=\"dataframe\">\n",
              "  <thead>\n",
              "    <tr style=\"text-align: right;\">\n",
              "      <th></th>\n",
              "      <th>genre</th>\n",
              "      <th>duration_ms</th>\n",
              "      <th>speechiness</th>\n",
              "    </tr>\n",
              "  </thead>\n",
              "  <tbody>\n",
              "    <tr>\n",
              "      <th>0</th>\n",
              "      <td>Country</td>\n",
              "      <td>200013</td>\n",
              "      <td>0.0444</td>\n",
              "    </tr>\n",
              "    <tr>\n",
              "      <th>1</th>\n",
              "      <td>Country</td>\n",
              "      <td>208187</td>\n",
              "      <td>0.0569</td>\n",
              "    </tr>\n",
              "    <tr>\n",
              "      <th>2</th>\n",
              "      <td>Country</td>\n",
              "      <td>123360</td>\n",
              "      <td>0.0960</td>\n",
              "    </tr>\n",
              "    <tr>\n",
              "      <th>3</th>\n",
              "      <td>Country</td>\n",
              "      <td>238600</td>\n",
              "      <td>0.0368</td>\n",
              "    </tr>\n",
              "    <tr>\n",
              "      <th>4</th>\n",
              "      <td>Country</td>\n",
              "      <td>243000</td>\n",
              "      <td>0.0330</td>\n",
              "    </tr>\n",
              "    <tr>\n",
              "      <th>...</th>\n",
              "      <td>...</td>\n",
              "      <td>...</td>\n",
              "      <td>...</td>\n",
              "    </tr>\n",
              "    <tr>\n",
              "      <th>17915</th>\n",
              "      <td>Country</td>\n",
              "      <td>179147</td>\n",
              "      <td>0.0322</td>\n",
              "    </tr>\n",
              "    <tr>\n",
              "      <th>17916</th>\n",
              "      <td>Country</td>\n",
              "      <td>230400</td>\n",
              "      <td>0.0832</td>\n",
              "    </tr>\n",
              "    <tr>\n",
              "      <th>17917</th>\n",
              "      <td>Country</td>\n",
              "      <td>216093</td>\n",
              "      <td>0.0268</td>\n",
              "    </tr>\n",
              "    <tr>\n",
              "      <th>17918</th>\n",
              "      <td>Country</td>\n",
              "      <td>179947</td>\n",
              "      <td>0.0909</td>\n",
              "    </tr>\n",
              "    <tr>\n",
              "      <th>17919</th>\n",
              "      <td>Country</td>\n",
              "      <td>238173</td>\n",
              "      <td>0.0362</td>\n",
              "    </tr>\n",
              "  </tbody>\n",
              "</table>\n",
              "<p>17920 rows × 3 columns</p>\n",
              "</div>\n",
              "      <button class=\"colab-df-convert\" onclick=\"convertToInteractive('df-a050d509-6eac-45c1-a8f1-6805ad996668')\"\n",
              "              title=\"Convert this dataframe to an interactive table.\"\n",
              "              style=\"display:none;\">\n",
              "        \n",
              "  <svg xmlns=\"http://www.w3.org/2000/svg\" height=\"24px\"viewBox=\"0 0 24 24\"\n",
              "       width=\"24px\">\n",
              "    <path d=\"M0 0h24v24H0V0z\" fill=\"none\"/>\n",
              "    <path d=\"M18.56 5.44l.94 2.06.94-2.06 2.06-.94-2.06-.94-.94-2.06-.94 2.06-2.06.94zm-11 1L8.5 8.5l.94-2.06 2.06-.94-2.06-.94L8.5 2.5l-.94 2.06-2.06.94zm10 10l.94 2.06.94-2.06 2.06-.94-2.06-.94-.94-2.06-.94 2.06-2.06.94z\"/><path d=\"M17.41 7.96l-1.37-1.37c-.4-.4-.92-.59-1.43-.59-.52 0-1.04.2-1.43.59L10.3 9.45l-7.72 7.72c-.78.78-.78 2.05 0 2.83L4 21.41c.39.39.9.59 1.41.59.51 0 1.02-.2 1.41-.59l7.78-7.78 2.81-2.81c.8-.78.8-2.07 0-2.86zM5.41 20L4 18.59l7.72-7.72 1.47 1.35L5.41 20z\"/>\n",
              "  </svg>\n",
              "      </button>\n",
              "      \n",
              "  <style>\n",
              "    .colab-df-container {\n",
              "      display:flex;\n",
              "      flex-wrap:wrap;\n",
              "      gap: 12px;\n",
              "    }\n",
              "\n",
              "    .colab-df-convert {\n",
              "      background-color: #E8F0FE;\n",
              "      border: none;\n",
              "      border-radius: 50%;\n",
              "      cursor: pointer;\n",
              "      display: none;\n",
              "      fill: #1967D2;\n",
              "      height: 32px;\n",
              "      padding: 0 0 0 0;\n",
              "      width: 32px;\n",
              "    }\n",
              "\n",
              "    .colab-df-convert:hover {\n",
              "      background-color: #E2EBFA;\n",
              "      box-shadow: 0px 1px 2px rgba(60, 64, 67, 0.3), 0px 1px 3px 1px rgba(60, 64, 67, 0.15);\n",
              "      fill: #174EA6;\n",
              "    }\n",
              "\n",
              "    [theme=dark] .colab-df-convert {\n",
              "      background-color: #3B4455;\n",
              "      fill: #D2E3FC;\n",
              "    }\n",
              "\n",
              "    [theme=dark] .colab-df-convert:hover {\n",
              "      background-color: #434B5C;\n",
              "      box-shadow: 0px 1px 3px 1px rgba(0, 0, 0, 0.15);\n",
              "      filter: drop-shadow(0px 1px 2px rgba(0, 0, 0, 0.3));\n",
              "      fill: #FFFFFF;\n",
              "    }\n",
              "  </style>\n",
              "\n",
              "      <script>\n",
              "        const buttonEl =\n",
              "          document.querySelector('#df-a050d509-6eac-45c1-a8f1-6805ad996668 button.colab-df-convert');\n",
              "        buttonEl.style.display =\n",
              "          google.colab.kernel.accessAllowed ? 'block' : 'none';\n",
              "\n",
              "        async function convertToInteractive(key) {\n",
              "          const element = document.querySelector('#df-a050d509-6eac-45c1-a8f1-6805ad996668');\n",
              "          const dataTable =\n",
              "            await google.colab.kernel.invokeFunction('convertToInteractive',\n",
              "                                                     [key], {});\n",
              "          if (!dataTable) return;\n",
              "\n",
              "          const docLinkHtml = 'Like what you see? Visit the ' +\n",
              "            '<a target=\"_blank\" href=https://colab.research.google.com/notebooks/data_table.ipynb>data table notebook</a>'\n",
              "            + ' to learn more about interactive tables.';\n",
              "          element.innerHTML = '';\n",
              "          dataTable['output_type'] = 'display_data';\n",
              "          await google.colab.output.renderOutput(dataTable, element);\n",
              "          const docLink = document.createElement('div');\n",
              "          docLink.innerHTML = docLinkHtml;\n",
              "          element.appendChild(docLink);\n",
              "        }\n",
              "      </script>\n",
              "    </div>\n",
              "  </div>\n",
              "  "
            ]
          },
          "metadata": {},
          "execution_count": 1
        }
      ]
    },
    {
      "cell_type": "markdown",
      "metadata": {
        "id": "GUc_ToyALjdJ"
      },
      "source": [
        "# Standardization and classification\n",
        "\n",
        "You now have a dataset with Country and Classical musics, and 2 numerical features : duration and speechiness.\n",
        "Our goal will be to predict genre from numerical features."
      ]
    },
    {
      "cell_type": "markdown",
      "metadata": {
        "id": "ZIbWjlGyMIV1"
      },
      "source": [
        "## Draw a scatterplot from df_zoom with\n",
        "- 'duration_ms' on X axis \n",
        "- 'speechiness' on Y axis\n",
        "- 'genre' in hue"
      ]
    },
    {
      "cell_type": "code",
      "metadata": {
        "id": "_BJLKhdjMY8N",
        "colab": {
          "base_uri": "https://localhost:8080/",
          "height": 280
        },
        "outputId": "193ebc3e-af91-4bc2-fdcb-14dc02f2adba"
      },
      "source": [
        "# Your code here :\n",
        "\n",
        "import matplotlib.pyplot as plt\n",
        "\n",
        "sns.scatterplot(data= df_zoom, x= 'duration_ms', y= 'speechiness', hue='genre')\n",
        "plt.show()"
      ],
      "execution_count": 3,
      "outputs": [
        {
          "output_type": "display_data",
          "data": {
            "text/plain": [
              "<Figure size 432x288 with 1 Axes>"
            ],
            "image/png": "[encoded data removed]"
          },
          "metadata": {
            "needs_background": "light"
          }
        }
      ]
    },
    {
      "cell_type": "markdown",
      "metadata": {
        "id": "bWh5LxO6MjkA"
      },
      "source": [
        "## Classification\n",
        "From df_zoom : \n",
        "- define X (`duration_ms` and `speechiness`) \n",
        "- define y (`genre`)\n",
        "- split your datas into train and test datasets, and `random_state = 2`\n",
        "- perform 3 classification algorithms (Logistic Regression, KNN and Decision Tree)\n",
        "- score your 3 models with accuracy score on the train dataset and on the test dataset\n"
      ]
    },
    {
      "cell_type": "code",
      "metadata": {
        "id": "-qAYEO6QN6ta",
        "colab": {
          "base_uri": "https://localhost:8080/"
        },
        "outputId": "41cea9f8-0517-4a3f-c3d9-8fd3569aac87"
      },
      "source": [
        "# Your code here :\n",
        "from sklearn.model_selection import train_test_split\n",
        "from sklearn.linear_model import LogisticRegression\n",
        "from sklearn.neighbors import KNeighborsClassifier\n",
        "from sklearn.tree import DecisionTreeRegressor\n",
        "from sklearn.tree import DecisionTreeClassifier\n",
        "\n",
        "X = df_zoom[['duration_ms', 'speechiness']]\n",
        "y = df_zoom['genre']\n",
        "\n",
        "X_train, X_test, y_train, y_test = train_test_split(X, y, random_state = 2)\n",
        "\n",
        "modelLR = LogisticRegression().fit(X_train, y_train)\n",
        "modelKNN = KNeighborsClassifier(n_neighbors=5)\n",
        "modelKNN = modelKNN.fit(X_train, y_train)\n",
        "modelDTC = DecisionTreeClassifier()\n",
        "modelDTC = modelDTC.fit(X_train, y_train)\n",
        "\n",
        "\n",
        "print(\"Logistic Regression:\",modelLR.score(X_train, y_train), modelLR.score(X_test, y_test))\n",
        "print(\"KNN:\",modelKNN.score(X_train, y_train), modelKNN.score(X_test, y_test))\n",
        "print(\"Decision Tree:\",modelDTC.score(X_train, y_train), modelDTC.score(X_test, y_test))"
      ],
      "execution_count": 6,
      "outputs": [
        {
          "output_type": "stream",
          "name": "stdout",
          "text": [
            "Logistic Regression: 0.51875 0.5098214285714285\n",
            "KNN: 0.7979910714285714 0.7129464285714285\n",
            "Decision Tree: 0.9997767857142857 0.7377232142857143\n"
          ]
        }
      ]
    },
    {
      "cell_type": "markdown",
      "metadata": {
        "id": "b9zPpxjhOWrJ"
      },
      "source": [
        "\n",
        "You have to find these accuracy scores for test set :\n",
        "- Logistic regression : 0.50982\n",
        "- KNN : 0.71295\n",
        "- Decision tree : 0.73728\n",
        "\n",
        "It seems Decision tree is better, but did you look at the overfitting ?"
      ]
    },
    {
      "cell_type": "markdown",
      "metadata": {
        "id": "Fqe6OCZrOg5f"
      },
      "source": [
        "## Standardization\n",
        "\n",
        "- Fit your scaler model on X_train\n",
        "- Transform X_train and X_test  with your scaler model into  X_train_scaled and X_test_scaled\n",
        "- perform and score the same 3 classification algorithms, but with X_train_scaled and X_test_scaled"
      ]
    },
    {
      "cell_type": "code",
      "metadata": {
        "id": "fO_T_Ma7PJR7",
        "colab": {
          "base_uri": "https://localhost:8080/"
        },
        "outputId": "fe69edb3-a54a-4e74-84d7-02f7858db809"
      },
      "source": [
        "# Your code here :\n",
        "from sklearn.preprocessing import StandardScaler\n",
        "\n",
        "scaler = StandardScaler().fit(X_train)\n",
        "\n",
        "X_train_scaled = scaler.transform(X_train)\n",
        "X_test_scaled = scaler.transform(X_test)\n",
        "\n",
        "modelLR = LogisticRegression().fit(X_train_scaled, y_train)\n",
        "modelKNN = KNeighborsClassifier(n_neighbors=5)\n",
        "modelKNN = modelKNN.fit(X_train_scaled, y_train)\n",
        "modelDTC = DecisionTreeClassifier()\n",
        "modelDTC = modelDTC.fit(X_train_scaled, y_train)\n",
        "\n",
        "\n",
        "print(\"Logistic Regression:\",modelLR.score(X_train, y_train), modelLR.score(X_test_scaled, y_test))\n",
        "print(\"KNN:\",modelKNN.score(X_train, y_train), modelKNN.score(X_test_scaled, y_test))\n",
        "print(\"Decision Tree:\",modelDTC.score(X_train, y_train), modelDTC.score(X_test_scaled, y_test))"
      ],
      "execution_count": 7,
      "outputs": [
        {
          "output_type": "stream",
          "name": "stderr",
          "text": [
            "/usr/local/lib/python3.8/dist-packages/sklearn/base.py:443: UserWarning: X has feature names, but LogisticRegression was fitted without feature names\n",
            "  warnings.warn(\n",
            "/usr/local/lib/python3.8/dist-packages/sklearn/base.py:443: UserWarning: X has feature names, but KNeighborsClassifier was fitted without feature names\n",
            "  warnings.warn(\n"
          ]
        },
        {
          "output_type": "stream",
          "name": "stdout",
          "text": [
            "Logistic Regression: 0.51875 0.6667410714285714\n",
            "KNN: 0.51875 0.7743303571428571\n",
            "Decision Tree: 0.5191964285714286 0.7383928571428572\n"
          ]
        },
        {
          "output_type": "stream",
          "name": "stderr",
          "text": [
            "/usr/local/lib/python3.8/dist-packages/sklearn/base.py:443: UserWarning: X has feature names, but DecisionTreeClassifier was fitted without feature names\n",
            "  warnings.warn(\n"
          ]
        }
      ]
    },
    {
      "cell_type": "markdown",
      "metadata": {
        "id": "g0ehPzz2PK3r"
      },
      "source": [
        "# Conclusion\n",
        "- Decision tree is insensitive to Standardization.\n",
        "- Logistic regression and KNN have better result after Standardization.\n",
        "\n",
        "\n",
        "We can remember that standardization is always good in preprocessing, before machine learning classifications and regressions. At worst, it does not change anything. At best, it improves results."
      ]
    }
  ]
}