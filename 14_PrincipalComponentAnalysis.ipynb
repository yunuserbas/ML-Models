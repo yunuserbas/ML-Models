{
  "nbformat": 4,
  "nbformat_minor": 0,
  "metadata": {
    "colab": {
      "provenance": []
    },
    "kernelspec": {
      "name": "python3",
      "display_name": "Python 3"
    },
    "language_info": {
      "name": "python"
    }
  },
  "cells": [
    {
      "cell_type": "markdown",
      "source": [
        "**1- Load the dataset and conduct an exploratory analysis: the number of features, correlations in the data, statistical indicators (of position, dispersion).**"
      ],
      "metadata": {
        "id": "7m2ik3vJEcjp"
      }
    },
    {
      "cell_type": "code",
      "source": [
        "import pandas as pd\n",
        "import seaborn as sns\n",
        "import numpy as np\n",
        "import matplotlib.pyplot as plt\n",
        "\n",
        "df = pd.read_csv(\"https://raw.githubusercontent.com/murpi/wilddata/master/quests/weather2020.csv\")\n",
        "df.head()"
      ],
      "metadata": {
        "colab": {
          "base_uri": "https://localhost:8080/",
          "height": 386
        },
        "id": "AaMWyTzkEh1Q",
        "outputId": "cfb06f92-a19d-428a-f6e5-93659eb5b6b8"
      },
      "execution_count": 94,
      "outputs": [
        {
          "output_type": "execute_result",
          "data": {
            "text/plain": [
              "         DATE  MAX_TEMPERATURE_C  MIN_TEMPERATURE_C  WINDSPEED_MAX_KMH  \\\n",
              "0  2020-01-01                 11                 10                 12   \n",
              "1  2020-01-02                 12                  9                 21   \n",
              "2  2020-01-03                 12                 10                 24   \n",
              "3  2020-01-04                  9                  5                  7   \n",
              "4  2020-01-05                  9                  4                 10   \n",
              "\n",
              "   TEMPERATURE_MORNING_C  TEMPERATURE_NOON_C  TEMPERATURE_EVENING_C  \\\n",
              "0                     10                  11                     10   \n",
              "1                      9                  11                     10   \n",
              "2                     11                  12                     10   \n",
              "3                      5                   8                      7   \n",
              "4                      4                   7                      7   \n",
              "\n",
              "   PRECIP_TOTAL_DAY_MM  HUMIDITY_MAX_PERCENT  VISIBILITY_AVG_KM  ...  \\\n",
              "0                  3.9                    97              7.875  ...   \n",
              "1                  0.1                    91              8.625  ...   \n",
              "2                  0.6                    94              9.375  ...   \n",
              "3                  0.0                    90             10.000  ...   \n",
              "4                  0.0                    88             10.000  ...   \n",
              "\n",
              "   WINDTEMP_MAX_C  WEATHER_CODE_MORNING  WEATHER_CODE_NOON  \\\n",
              "0               8                   353                248   \n",
              "1               8                   122                122   \n",
              "2               8                   176                116   \n",
              "3               3                   113                116   \n",
              "4               3                   116                116   \n",
              "\n",
              "   WEATHER_CODE_EVENING  TOTAL_SNOW_MM  UV_INDEX  SUNHOUR   OPINION  MONTH  \\\n",
              "0                   353              0         1      3.3       bad      1   \n",
              "1                   122              0         1      3.3       bad      1   \n",
              "2                   176              0         1      5.1       bad      1   \n",
              "3                   116              0         1      8.7  very bad      1   \n",
              "4                   116              0         1      8.7  very bad      1   \n",
              "\n",
              "   DAY  \n",
              "0    1  \n",
              "1    2  \n",
              "2    3  \n",
              "3    4  \n",
              "4    5  \n",
              "\n",
              "[5 rows x 24 columns]"
            ],
            "text/html": [
              "\n",
              "  <div id=\"df-16f48b6a-a5eb-42c1-bc62-cb6b7aaf71f2\">\n",
              "    <div class=\"colab-df-container\">\n",
              "      <div>\n",
              "<style scoped>\n",
              "    .dataframe tbody tr th:only-of-type {\n",
              "        vertical-align: middle;\n",
              "    }\n",
              "\n",
              "    .dataframe tbody tr th {\n",
              "        vertical-align: top;\n",
              "    }\n",
              "\n",
              "    .dataframe thead th {\n",
              "        text-align: right;\n",
              "    }\n",
              "</style>\n",
              "<table border=\"1\" class=\"dataframe\">\n",
              "  <thead>\n",
              "    <tr style=\"text-align: right;\">\n",
              "      <th></th>\n",
              "      <th>DATE</th>\n",
              "      <th>MAX_TEMPERATURE_C</th>\n",
              "      <th>MIN_TEMPERATURE_C</th>\n",
              "      <th>WINDSPEED_MAX_KMH</th>\n",
              "      <th>TEMPERATURE_MORNING_C</th>\n",
              "      <th>TEMPERATURE_NOON_C</th>\n",
              "      <th>TEMPERATURE_EVENING_C</th>\n",
              "      <th>PRECIP_TOTAL_DAY_MM</th>\n",
              "      <th>HUMIDITY_MAX_PERCENT</th>\n",
              "      <th>VISIBILITY_AVG_KM</th>\n",
              "      <th>...</th>\n",
              "      <th>WINDTEMP_MAX_C</th>\n",
              "      <th>WEATHER_CODE_MORNING</th>\n",
              "      <th>WEATHER_CODE_NOON</th>\n",
              "      <th>WEATHER_CODE_EVENING</th>\n",
              "      <th>TOTAL_SNOW_MM</th>\n",
              "      <th>UV_INDEX</th>\n",
              "      <th>SUNHOUR</th>\n",
              "      <th>OPINION</th>\n",
              "      <th>MONTH</th>\n",
              "      <th>DAY</th>\n",
              "    </tr>\n",
              "  </thead>\n",
              "  <tbody>\n",
              "    <tr>\n",
              "      <th>0</th>\n",
              "      <td>2020-01-01</td>\n",
              "      <td>11</td>\n",
              "      <td>10</td>\n",
              "      <td>12</td>\n",
              "      <td>10</td>\n",
              "      <td>11</td>\n",
              "      <td>10</td>\n",
              "      <td>3.9</td>\n",
              "      <td>97</td>\n",
              "      <td>7.875</td>\n",
              "      <td>...</td>\n",
              "      <td>8</td>\n",
              "      <td>353</td>\n",
              "      <td>248</td>\n",
              "      <td>353</td>\n",
              "      <td>0</td>\n",
              "      <td>1</td>\n",
              "      <td>3.3</td>\n",
              "      <td>bad</td>\n",
              "      <td>1</td>\n",
              "      <td>1</td>\n",
              "    </tr>\n",
              "    <tr>\n",
              "      <th>1</th>\n",
              "      <td>2020-01-02</td>\n",
              "      <td>12</td>\n",
              "      <td>9</td>\n",
              "      <td>21</td>\n",
              "      <td>9</td>\n",
              "      <td>11</td>\n",
              "      <td>10</td>\n",
              "      <td>0.1</td>\n",
              "      <td>91</td>\n",
              "      <td>8.625</td>\n",
              "      <td>...</td>\n",
              "      <td>8</td>\n",
              "      <td>122</td>\n",
              "      <td>122</td>\n",
              "      <td>122</td>\n",
              "      <td>0</td>\n",
              "      <td>1</td>\n",
              "      <td>3.3</td>\n",
              "      <td>bad</td>\n",
              "      <td>1</td>\n",
              "      <td>2</td>\n",
              "    </tr>\n",
              "    <tr>\n",
              "      <th>2</th>\n",
              "      <td>2020-01-03</td>\n",
              "      <td>12</td>\n",
              "      <td>10</td>\n",
              "      <td>24</td>\n",
              "      <td>11</td>\n",
              "      <td>12</td>\n",
              "      <td>10</td>\n",
              "      <td>0.6</td>\n",
              "      <td>94</td>\n",
              "      <td>9.375</td>\n",
              "      <td>...</td>\n",
              "      <td>8</td>\n",
              "      <td>176</td>\n",
              "      <td>116</td>\n",
              "      <td>176</td>\n",
              "      <td>0</td>\n",
              "      <td>1</td>\n",
              "      <td>5.1</td>\n",
              "      <td>bad</td>\n",
              "      <td>1</td>\n",
              "      <td>3</td>\n",
              "    </tr>\n",
              "    <tr>\n",
              "      <th>3</th>\n",
              "      <td>2020-01-04</td>\n",
              "      <td>9</td>\n",
              "      <td>5</td>\n",
              "      <td>7</td>\n",
              "      <td>5</td>\n",
              "      <td>8</td>\n",
              "      <td>7</td>\n",
              "      <td>0.0</td>\n",
              "      <td>90</td>\n",
              "      <td>10.000</td>\n",
              "      <td>...</td>\n",
              "      <td>3</td>\n",
              "      <td>113</td>\n",
              "      <td>116</td>\n",
              "      <td>116</td>\n",
              "      <td>0</td>\n",
              "      <td>1</td>\n",
              "      <td>8.7</td>\n",
              "      <td>very bad</td>\n",
              "      <td>1</td>\n",
              "      <td>4</td>\n",
              "    </tr>\n",
              "    <tr>\n",
              "      <th>4</th>\n",
              "      <td>2020-01-05</td>\n",
              "      <td>9</td>\n",
              "      <td>4</td>\n",
              "      <td>10</td>\n",
              "      <td>4</td>\n",
              "      <td>7</td>\n",
              "      <td>7</td>\n",
              "      <td>0.0</td>\n",
              "      <td>88</td>\n",
              "      <td>10.000</td>\n",
              "      <td>...</td>\n",
              "      <td>3</td>\n",
              "      <td>116</td>\n",
              "      <td>116</td>\n",
              "      <td>116</td>\n",
              "      <td>0</td>\n",
              "      <td>1</td>\n",
              "      <td>8.7</td>\n",
              "      <td>very bad</td>\n",
              "      <td>1</td>\n",
              "      <td>5</td>\n",
              "    </tr>\n",
              "  </tbody>\n",
              "</table>\n",
              "<p>5 rows × 24 columns</p>\n",
              "</div>\n",
              "      <button class=\"colab-df-convert\" onclick=\"convertToInteractive('df-16f48b6a-a5eb-42c1-bc62-cb6b7aaf71f2')\"\n",
              "              title=\"Convert this dataframe to an interactive table.\"\n",
              "              style=\"display:none;\">\n",
              "        \n",
              "  <svg xmlns=\"http://www.w3.org/2000/svg\" height=\"24px\"viewBox=\"0 0 24 24\"\n",
              "       width=\"24px\">\n",
              "    <path d=\"M0 0h24v24H0V0z\" fill=\"none\"/>\n",
              "    <path d=\"M18.56 5.44l.94 2.06.94-2.06 2.06-.94-2.06-.94-.94-2.06-.94 2.06-2.06.94zm-11 1L8.5 8.5l.94-2.06 2.06-.94-2.06-.94L8.5 2.5l-.94 2.06-2.06.94zm10 10l.94 2.06.94-2.06 2.06-.94-2.06-.94-.94-2.06-.94 2.06-2.06.94z\"/><path d=\"M17.41 7.96l-1.37-1.37c-.4-.4-.92-.59-1.43-.59-.52 0-1.04.2-1.43.59L10.3 9.45l-7.72 7.72c-.78.78-.78 2.05 0 2.83L4 21.41c.39.39.9.59 1.41.59.51 0 1.02-.2 1.41-.59l7.78-7.78 2.81-2.81c.8-.78.8-2.07 0-2.86zM5.41 20L4 18.59l7.72-7.72 1.47 1.35L5.41 20z\"/>\n",
              "  </svg>\n",
              "      </button>\n",
              "      \n",
              "  <style>\n",
              "    .colab-df-container {\n",
              "      display:flex;\n",
              "      flex-wrap:wrap;\n",
              "      gap: 12px;\n",
              "    }\n",
              "\n",
              "    .colab-df-convert {\n",
              "      background-color: #E8F0FE;\n",
              "      border: none;\n",
              "      border-radius: 50%;\n",
              "      cursor: pointer;\n",
              "      display: none;\n",
              "      fill: #1967D2;\n",
              "      height: 32px;\n",
              "      padding: 0 0 0 0;\n",
              "      width: 32px;\n",
              "    }\n",
              "\n",
              "    .colab-df-convert:hover {\n",
              "      background-color: #E2EBFA;\n",
              "      box-shadow: 0px 1px 2px rgba(60, 64, 67, 0.3), 0px 1px 3px 1px rgba(60, 64, 67, 0.15);\n",
              "      fill: #174EA6;\n",
              "    }\n",
              "\n",
              "    [theme=dark] .colab-df-convert {\n",
              "      background-color: #3B4455;\n",
              "      fill: #D2E3FC;\n",
              "    }\n",
              "\n",
              "    [theme=dark] .colab-df-convert:hover {\n",
              "      background-color: #434B5C;\n",
              "      box-shadow: 0px 1px 3px 1px rgba(0, 0, 0, 0.15);\n",
              "      filter: drop-shadow(0px 1px 2px rgba(0, 0, 0, 0.3));\n",
              "      fill: #FFFFFF;\n",
              "    }\n",
              "  </style>\n",
              "\n",
              "      <script>\n",
              "        const buttonEl =\n",
              "          document.querySelector('#df-16f48b6a-a5eb-42c1-bc62-cb6b7aaf71f2 button.colab-df-convert');\n",
              "        buttonEl.style.display =\n",
              "          google.colab.kernel.accessAllowed ? 'block' : 'none';\n",
              "\n",
              "        async function convertToInteractive(key) {\n",
              "          const element = document.querySelector('#df-16f48b6a-a5eb-42c1-bc62-cb6b7aaf71f2');\n",
              "          const dataTable =\n",
              "            await google.colab.kernel.invokeFunction('convertToInteractive',\n",
              "                                                     [key], {});\n",
              "          if (!dataTable) return;\n",
              "\n",
              "          const docLinkHtml = 'Like what you see? Visit the ' +\n",
              "            '<a target=\"_blank\" href=https://colab.research.google.com/notebooks/data_table.ipynb>data table notebook</a>'\n",
              "            + ' to learn more about interactive tables.';\n",
              "          element.innerHTML = '';\n",
              "          dataTable['output_type'] = 'display_data';\n",
              "          await google.colab.output.renderOutput(dataTable, element);\n",
              "          const docLink = document.createElement('div');\n",
              "          docLink.innerHTML = docLinkHtml;\n",
              "          element.appendChild(docLink);\n",
              "        }\n",
              "      </script>\n",
              "    </div>\n",
              "  </div>\n",
              "  "
            ]
          },
          "metadata": {},
          "execution_count": 94
        }
      ]
    },
    {
      "cell_type": "code",
      "source": [
        "df.info()"
      ],
      "metadata": {
        "colab": {
          "base_uri": "https://localhost:8080/"
        },
        "id": "v8aiR0kM78eU",
        "outputId": "68fe4358-25bd-40dd-f0e9-a322964db2ce"
      },
      "execution_count": 95,
      "outputs": [
        {
          "output_type": "stream",
          "name": "stdout",
          "text": [
            "<class 'pandas.core.frame.DataFrame'>\n",
            "RangeIndex: 366 entries, 0 to 365\n",
            "Data columns (total 24 columns):\n",
            " #   Column                  Non-Null Count  Dtype  \n",
            "---  ------                  --------------  -----  \n",
            " 0   DATE                    366 non-null    object \n",
            " 1   MAX_TEMPERATURE_C       366 non-null    int64  \n",
            " 2   MIN_TEMPERATURE_C       366 non-null    int64  \n",
            " 3   WINDSPEED_MAX_KMH       366 non-null    int64  \n",
            " 4   TEMPERATURE_MORNING_C   366 non-null    int64  \n",
            " 5   TEMPERATURE_NOON_C      366 non-null    int64  \n",
            " 6   TEMPERATURE_EVENING_C   366 non-null    int64  \n",
            " 7   PRECIP_TOTAL_DAY_MM     366 non-null    float64\n",
            " 8   HUMIDITY_MAX_PERCENT    366 non-null    int64  \n",
            " 9   VISIBILITY_AVG_KM       366 non-null    float64\n",
            " 10  PRESSURE_MAX_MB         366 non-null    int64  \n",
            " 11  CLOUDCOVER_AVG_PERCENT  366 non-null    float64\n",
            " 12  HEATINDEX_MAX_C         366 non-null    int64  \n",
            " 13  DEWPOINT_MAX_C          366 non-null    int64  \n",
            " 14  WINDTEMP_MAX_C          366 non-null    int64  \n",
            " 15  WEATHER_CODE_MORNING    366 non-null    int64  \n",
            " 16  WEATHER_CODE_NOON       366 non-null    int64  \n",
            " 17  WEATHER_CODE_EVENING    366 non-null    int64  \n",
            " 18  TOTAL_SNOW_MM           366 non-null    int64  \n",
            " 19  UV_INDEX                366 non-null    int64  \n",
            " 20  SUNHOUR                 366 non-null    float64\n",
            " 21  OPINION                 366 non-null    object \n",
            " 22  MONTH                   366 non-null    int64  \n",
            " 23  DAY                     366 non-null    int64  \n",
            "dtypes: float64(4), int64(18), object(2)\n",
            "memory usage: 68.8+ KB\n"
          ]
        }
      ]
    },
    {
      "cell_type": "code",
      "source": [
        "# Print the correlations between the features\n",
        "print(\"Correlations: \\n\", df.corr())"
      ],
      "metadata": {
        "colab": {
          "base_uri": "https://localhost:8080/"
        },
        "id": "3hQLlJsL_k6R",
        "outputId": "ac7c0e0e-58bd-42ea-9865-955686a2a78a"
      },
      "execution_count": 96,
      "outputs": [
        {
          "output_type": "stream",
          "name": "stdout",
          "text": [
            "Correlations: \n",
            "                         MAX_TEMPERATURE_C  MIN_TEMPERATURE_C  \\\n",
            "MAX_TEMPERATURE_C                1.000000           0.849326   \n",
            "MIN_TEMPERATURE_C                0.849326           1.000000   \n",
            "WINDSPEED_MAX_KMH               -0.327096          -0.100506   \n",
            "TEMPERATURE_MORNING_C            0.794239           0.935416   \n",
            "TEMPERATURE_NOON_C               0.985586           0.893272   \n",
            "TEMPERATURE_EVENING_C            0.987956           0.842312   \n",
            "PRECIP_TOTAL_DAY_MM             -0.177971          -0.013854   \n",
            "HUMIDITY_MAX_PERCENT            -0.179855          -0.074038   \n",
            "VISIBILITY_AVG_KM                0.063794          -0.091817   \n",
            "PRESSURE_MAX_MB                 -0.066079          -0.171817   \n",
            "CLOUDCOVER_AVG_PERCENT          -0.364686          -0.015391   \n",
            "HEATINDEX_MAX_C                  0.994094           0.857023   \n",
            "DEWPOINT_MAX_C                   0.800846           0.911932   \n",
            "WINDTEMP_MAX_C                   0.860801           0.985388   \n",
            "WEATHER_CODE_MORNING            -0.117901           0.082686   \n",
            "WEATHER_CODE_NOON               -0.163310           0.060539   \n",
            "WEATHER_CODE_EVENING            -0.196381           0.002838   \n",
            "TOTAL_SNOW_MM                         NaN                NaN   \n",
            "UV_INDEX                         0.886651           0.736483   \n",
            "SUNHOUR                          0.642676           0.439464   \n",
            "MONTH                            0.179669           0.105662   \n",
            "DAY                              0.000671          -0.008460   \n",
            "\n",
            "                        WINDSPEED_MAX_KMH  TEMPERATURE_MORNING_C  \\\n",
            "MAX_TEMPERATURE_C               -0.327096               0.794239   \n",
            "MIN_TEMPERATURE_C               -0.100506               0.935416   \n",
            "WINDSPEED_MAX_KMH                1.000000              -0.015196   \n",
            "TEMPERATURE_MORNING_C           -0.015196               1.000000   \n",
            "TEMPERATURE_NOON_C              -0.279279               0.847635   \n",
            "TEMPERATURE_EVENING_C           -0.339009               0.768743   \n",
            "PRECIP_TOTAL_DAY_MM              0.353478               0.079595   \n",
            "HUMIDITY_MAX_PERCENT            -0.066974               0.026395   \n",
            "VISIBILITY_AVG_KM               -0.120787              -0.117264   \n",
            "PRESSURE_MAX_MB                 -0.260619              -0.222583   \n",
            "CLOUDCOVER_AVG_PERCENT           0.405679               0.124520   \n",
            "HEATINDEX_MAX_C                 -0.322223               0.797052   \n",
            "DEWPOINT_MAX_C                  -0.119287               0.874001   \n",
            "WINDTEMP_MAX_C                  -0.190328               0.926383   \n",
            "WEATHER_CODE_MORNING             0.265010               0.166290   \n",
            "WEATHER_CODE_NOON                0.409464               0.169643   \n",
            "WEATHER_CODE_EVENING             0.282784               0.052635   \n",
            "TOTAL_SNOW_MM                         NaN                    NaN   \n",
            "UV_INDEX                        -0.350733               0.666789   \n",
            "SUNHOUR                         -0.353471               0.284882   \n",
            "MONTH                           -0.129531               0.205091   \n",
            "DAY                              0.095886              -0.016454   \n",
            "\n",
            "                        TEMPERATURE_NOON_C  TEMPERATURE_EVENING_C  \\\n",
            "MAX_TEMPERATURE_C                 0.985586               0.987956   \n",
            "MIN_TEMPERATURE_C                 0.893272               0.842312   \n",
            "WINDSPEED_MAX_KMH                -0.279279              -0.339009   \n",
            "TEMPERATURE_MORNING_C             0.847635               0.768743   \n",
            "TEMPERATURE_NOON_C                1.000000               0.970373   \n",
            "TEMPERATURE_EVENING_C             0.970373               1.000000   \n",
            "PRECIP_TOTAL_DAY_MM              -0.149084              -0.188112   \n",
            "HUMIDITY_MAX_PERCENT             -0.148386              -0.183977   \n",
            "VISIBILITY_AVG_KM                 0.035141               0.055457   \n",
            "PRESSURE_MAX_MB                  -0.108837              -0.056071   \n",
            "CLOUDCOVER_AVG_PERCENT           -0.286289              -0.356663   \n",
            "HEATINDEX_MAX_C                   0.982196               0.983114   \n",
            "DEWPOINT_MAX_C                    0.834571               0.800745   \n",
            "WINDTEMP_MAX_C                    0.905407               0.853711   \n",
            "WEATHER_CODE_MORNING             -0.080319              -0.109696   \n",
            "WEATHER_CODE_NOON                -0.119902              -0.169444   \n",
            "WEATHER_CODE_EVENING             -0.136957              -0.198284   \n",
            "TOTAL_SNOW_MM                          NaN                    NaN   \n",
            "UV_INDEX                          0.879551               0.876498   \n",
            "SUNHOUR                           0.601418               0.650588   \n",
            "MONTH                             0.195348               0.149347   \n",
            "DAY                              -0.000693              -0.006183   \n",
            "\n",
            "                        PRECIP_TOTAL_DAY_MM  HUMIDITY_MAX_PERCENT  \\\n",
            "MAX_TEMPERATURE_C                 -0.177971             -0.179855   \n",
            "MIN_TEMPERATURE_C                 -0.013854             -0.074038   \n",
            "WINDSPEED_MAX_KMH                  0.353478             -0.066974   \n",
            "TEMPERATURE_MORNING_C              0.079595              0.026395   \n",
            "TEMPERATURE_NOON_C                -0.149084             -0.148386   \n",
            "TEMPERATURE_EVENING_C             -0.188112             -0.183977   \n",
            "PRECIP_TOTAL_DAY_MM                1.000000              0.247810   \n",
            "HUMIDITY_MAX_PERCENT               0.247810              1.000000   \n",
            "VISIBILITY_AVG_KM                 -0.401747             -0.415754   \n",
            "PRESSURE_MAX_MB                   -0.470997             -0.116546   \n",
            "CLOUDCOVER_AVG_PERCENT             0.454281              0.490342   \n",
            "HEATINDEX_MAX_C                   -0.176715             -0.174462   \n",
            "DEWPOINT_MAX_C                     0.050370              0.139370   \n",
            "WINDTEMP_MAX_C                    -0.034027             -0.041025   \n",
            "WEATHER_CODE_MORNING               0.453473              0.234050   \n",
            "WEATHER_CODE_NOON                  0.488908              0.250605   \n",
            "WEATHER_CODE_EVENING               0.459954              0.302201   \n",
            "TOTAL_SNOW_MM                           NaN                   NaN   \n",
            "UV_INDEX                          -0.175698             -0.214630   \n",
            "SUNHOUR                           -0.331804             -0.376029   \n",
            "MONTH                              0.014350              0.067055   \n",
            "DAY                               -0.086687             -0.144309   \n",
            "\n",
            "                        VISIBILITY_AVG_KM  PRESSURE_MAX_MB  ...  \\\n",
            "MAX_TEMPERATURE_C                0.063794        -0.066079  ...   \n",
            "MIN_TEMPERATURE_C               -0.091817        -0.171817  ...   \n",
            "WINDSPEED_MAX_KMH               -0.120787        -0.260619  ...   \n",
            "TEMPERATURE_MORNING_C           -0.117264        -0.222583  ...   \n",
            "TEMPERATURE_NOON_C               0.035141        -0.108837  ...   \n",
            "TEMPERATURE_EVENING_C            0.055457        -0.056071  ...   \n",
            "PRECIP_TOTAL_DAY_MM             -0.401747        -0.470997  ...   \n",
            "HUMIDITY_MAX_PERCENT            -0.415754        -0.116546  ...   \n",
            "VISIBILITY_AVG_KM                1.000000         0.212636  ...   \n",
            "PRESSURE_MAX_MB                  0.212636         1.000000  ...   \n",
            "CLOUDCOVER_AVG_PERCENT          -0.454791        -0.385700  ...   \n",
            "HEATINDEX_MAX_C                  0.055768        -0.065327  ...   \n",
            "DEWPOINT_MAX_C                  -0.191911        -0.195169  ...   \n",
            "WINDTEMP_MAX_C                  -0.090080        -0.153970  ...   \n",
            "WEATHER_CODE_MORNING            -0.335233        -0.402413  ...   \n",
            "WEATHER_CODE_NOON               -0.313420        -0.360255  ...   \n",
            "WEATHER_CODE_EVENING            -0.379694        -0.403686  ...   \n",
            "TOTAL_SNOW_MM                         NaN              NaN  ...   \n",
            "UV_INDEX                         0.147103        -0.105419  ...   \n",
            "SUNHOUR                          0.234744         0.110310  ...   \n",
            "MONTH                            0.106498        -0.278669  ...   \n",
            "DAY                              0.096751         0.012074  ...   \n",
            "\n",
            "                        DEWPOINT_MAX_C  WINDTEMP_MAX_C  WEATHER_CODE_MORNING  \\\n",
            "MAX_TEMPERATURE_C             0.800846        0.860801             -0.117901   \n",
            "MIN_TEMPERATURE_C             0.911932        0.985388              0.082686   \n",
            "WINDSPEED_MAX_KMH            -0.119287       -0.190328              0.265010   \n",
            "TEMPERATURE_MORNING_C         0.874001        0.926383              0.166290   \n",
            "TEMPERATURE_NOON_C            0.834571        0.905407             -0.080319   \n",
            "TEMPERATURE_EVENING_C         0.800745        0.853711             -0.109696   \n",
            "PRECIP_TOTAL_DAY_MM           0.050370       -0.034027              0.453473   \n",
            "HUMIDITY_MAX_PERCENT          0.139370       -0.041025              0.234050   \n",
            "VISIBILITY_AVG_KM            -0.191911       -0.090080             -0.335233   \n",
            "PRESSURE_MAX_MB              -0.195169       -0.153970             -0.402413   \n",
            "CLOUDCOVER_AVG_PERCENT        0.065246       -0.033845              0.525331   \n",
            "HEATINDEX_MAX_C               0.811529        0.868460             -0.122069   \n",
            "DEWPOINT_MAX_C                1.000000        0.908973              0.099678   \n",
            "WINDTEMP_MAX_C                0.908973        1.000000              0.055565   \n",
            "WEATHER_CODE_MORNING          0.099678        0.055565              1.000000   \n",
            "WEATHER_CODE_NOON             0.069773        0.037637              0.427741   \n",
            "WEATHER_CODE_EVENING          0.066209       -0.008342              0.382193   \n",
            "TOTAL_SNOW_MM                      NaN             NaN                   NaN   \n",
            "UV_INDEX                      0.683945        0.760881             -0.163013   \n",
            "SUNHOUR                       0.377494        0.452189             -0.315387   \n",
            "MONTH                         0.078000        0.141301              0.033203   \n",
            "DAY                          -0.020293       -0.021955             -0.047366   \n",
            "\n",
            "                        WEATHER_CODE_NOON  WEATHER_CODE_EVENING  \\\n",
            "MAX_TEMPERATURE_C               -0.163310             -0.196381   \n",
            "MIN_TEMPERATURE_C                0.060539              0.002838   \n",
            "WINDSPEED_MAX_KMH                0.409464              0.282784   \n",
            "TEMPERATURE_MORNING_C            0.169643              0.052635   \n",
            "TEMPERATURE_NOON_C              -0.119902             -0.136957   \n",
            "TEMPERATURE_EVENING_C           -0.169444             -0.198284   \n",
            "PRECIP_TOTAL_DAY_MM              0.488908              0.459954   \n",
            "HUMIDITY_MAX_PERCENT             0.250605              0.302201   \n",
            "VISIBILITY_AVG_KM               -0.313420             -0.379694   \n",
            "PRESSURE_MAX_MB                 -0.360255             -0.403686   \n",
            "CLOUDCOVER_AVG_PERCENT           0.573823              0.570804   \n",
            "HEATINDEX_MAX_C                 -0.162777             -0.197411   \n",
            "DEWPOINT_MAX_C                   0.069773              0.066209   \n",
            "WINDTEMP_MAX_C                   0.037637             -0.008342   \n",
            "WEATHER_CODE_MORNING             0.427741              0.382193   \n",
            "WEATHER_CODE_NOON                1.000000              0.457939   \n",
            "WEATHER_CODE_EVENING             0.457939              1.000000   \n",
            "TOTAL_SNOW_MM                         NaN                   NaN   \n",
            "UV_INDEX                        -0.184300             -0.193927   \n",
            "SUNHOUR                         -0.369809             -0.394185   \n",
            "MONTH                           -0.030371             -0.076807   \n",
            "DAY                             -0.028441             -0.014336   \n",
            "\n",
            "                        TOTAL_SNOW_MM  UV_INDEX   SUNHOUR     MONTH       DAY  \n",
            "MAX_TEMPERATURE_C                 NaN  0.886651  0.642676  0.179669  0.000671  \n",
            "MIN_TEMPERATURE_C                 NaN  0.736483  0.439464  0.105662 -0.008460  \n",
            "WINDSPEED_MAX_KMH                 NaN -0.350733 -0.353471 -0.129531  0.095886  \n",
            "TEMPERATURE_MORNING_C             NaN  0.666789  0.284882  0.205091 -0.016454  \n",
            "TEMPERATURE_NOON_C                NaN  0.879551  0.601418  0.195348 -0.000693  \n",
            "TEMPERATURE_EVENING_C             NaN  0.876498  0.650588  0.149347 -0.006183  \n",
            "PRECIP_TOTAL_DAY_MM               NaN -0.175698 -0.331804  0.014350 -0.086687  \n",
            "HUMIDITY_MAX_PERCENT              NaN -0.214630 -0.376029  0.067055 -0.144309  \n",
            "VISIBILITY_AVG_KM                 NaN  0.147103  0.234744  0.106498  0.096751  \n",
            "PRESSURE_MAX_MB                   NaN -0.105419  0.110310 -0.278669  0.012074  \n",
            "CLOUDCOVER_AVG_PERCENT            NaN -0.436240 -0.693276 -0.042126 -0.063219  \n",
            "HEATINDEX_MAX_C                   NaN  0.883173  0.647630  0.173337  0.010757  \n",
            "DEWPOINT_MAX_C                    NaN  0.683945  0.377494  0.078000 -0.020293  \n",
            "WINDTEMP_MAX_C                    NaN  0.760881  0.452189  0.141301 -0.021955  \n",
            "WEATHER_CODE_MORNING              NaN -0.163013 -0.315387  0.033203 -0.047366  \n",
            "WEATHER_CODE_NOON                 NaN -0.184300 -0.369809 -0.030371 -0.028441  \n",
            "WEATHER_CODE_EVENING              NaN -0.193927 -0.394185 -0.076807 -0.014336  \n",
            "TOTAL_SNOW_MM                     NaN       NaN       NaN       NaN       NaN  \n",
            "UV_INDEX                          NaN  1.000000  0.645574  0.382189  0.022875  \n",
            "SUNHOUR                           NaN  0.645574  1.000000 -0.086526  0.015013  \n",
            "MONTH                             NaN  0.382189 -0.086526  1.000000  0.006443  \n",
            "DAY                               NaN  0.022875  0.015013  0.006443  1.000000  \n",
            "\n",
            "[22 rows x 22 columns]\n"
          ]
        }
      ]
    },
    {
      "cell_type": "code",
      "source": [
        "# Print the number of features\n",
        "print(\"Number of features: \", df.shape)"
      ],
      "metadata": {
        "colab": {
          "base_uri": "https://localhost:8080/"
        },
        "id": "JaqRAnQY8K2S",
        "outputId": "4979a905-8328-4031-b725-02c872bfbd84"
      },
      "execution_count": 97,
      "outputs": [
        {
          "output_type": "stream",
          "name": "stdout",
          "text": [
            "Number of features:  (366, 24)\n"
          ]
        }
      ]
    },
    {
      "cell_type": "code",
      "source": [
        "# Print the statistical indicators of position and dispersion\n",
        "print(\"Statistical indicators: \\n\", df.describe())"
      ],
      "metadata": {
        "colab": {
          "base_uri": "https://localhost:8080/"
        },
        "id": "FQxbML8d8EXU",
        "outputId": "95986ed5-9c29-421e-d42f-b11d07cfd46a"
      },
      "execution_count": 98,
      "outputs": [
        {
          "output_type": "stream",
          "name": "stdout",
          "text": [
            "Statistical indicators: \n",
            "        MAX_TEMPERATURE_C  MIN_TEMPERATURE_C  WINDSPEED_MAX_KMH  \\\n",
            "count         366.000000         366.000000         366.000000   \n",
            "mean           16.997268          11.259563          20.991803   \n",
            "std             6.369232           4.510670           8.546565   \n",
            "min             5.000000           0.000000           3.000000   \n",
            "25%            12.000000           8.000000          14.000000   \n",
            "50%            16.000000          11.000000          20.000000   \n",
            "75%            21.000000          15.000000          26.000000   \n",
            "max            38.000000          23.000000          50.000000   \n",
            "\n",
            "       TEMPERATURE_MORNING_C  TEMPERATURE_NOON_C  TEMPERATURE_EVENING_C  \\\n",
            "count             366.000000          366.000000             366.000000   \n",
            "mean               10.631148           15.770492              15.275956   \n",
            "std                 4.601133            6.018857               6.450046   \n",
            "min                -1.000000            3.000000               3.000000   \n",
            "25%                 8.000000           11.000000              10.000000   \n",
            "50%                11.000000           15.000000              14.000000   \n",
            "75%                14.000000           20.000000              20.000000   \n",
            "max                23.000000           35.000000              37.000000   \n",
            "\n",
            "       PRECIP_TOTAL_DAY_MM  HUMIDITY_MAX_PERCENT  VISIBILITY_AVG_KM  \\\n",
            "count           366.000000            366.000000         366.000000   \n",
            "mean              3.169126             86.603825           9.237022   \n",
            "std               6.408436              7.501151           1.059369   \n",
            "min               0.000000             47.000000           3.000000   \n",
            "25%               0.000000             83.000000           8.750000   \n",
            "50%               0.400000             88.500000           9.875000   \n",
            "75%               2.900000             92.000000          10.000000   \n",
            "max              53.300000             99.000000          10.000000   \n",
            "\n",
            "       PRESSURE_MAX_MB  ...  DEWPOINT_MAX_C  WINDTEMP_MAX_C  \\\n",
            "count       366.000000  ...      366.000000      366.000000   \n",
            "mean       1019.562842  ...       11.256831        9.707650   \n",
            "std           8.309106  ...        4.225123        5.728018   \n",
            "min         982.000000  ...        0.000000       -5.000000   \n",
            "25%        1016.000000  ...        8.000000        6.000000   \n",
            "50%        1020.000000  ...       12.000000       10.000000   \n",
            "75%        1024.000000  ...       14.000000       14.000000   \n",
            "max        1044.000000  ...       22.000000       23.000000   \n",
            "\n",
            "       WEATHER_CODE_MORNING  WEATHER_CODE_NOON  WEATHER_CODE_EVENING  \\\n",
            "count            366.000000         366.000000            366.000000   \n",
            "mean             160.926230         166.172131            181.278689   \n",
            "std               74.537276          81.604763             93.009523   \n",
            "min              113.000000         113.000000            113.000000   \n",
            "25%              116.000000         116.000000            116.000000   \n",
            "50%              119.000000         116.000000            122.000000   \n",
            "75%              176.000000         176.000000            176.000000   \n",
            "max              353.000000         389.000000            389.000000   \n",
            "\n",
            "       TOTAL_SNOW_MM    UV_INDEX     SUNHOUR       MONTH         DAY  \n",
            "count          366.0  366.000000  366.000000  366.000000  366.000000  \n",
            "mean             0.0    3.639344    9.269126    6.513661   15.756831  \n",
            "std              0.0    1.681807    3.399074    3.455958    8.823592  \n",
            "min              0.0    1.000000    3.300000    1.000000    1.000000  \n",
            "25%              0.0    3.000000    6.700000    4.000000    8.000000  \n",
            "50%              0.0    4.000000    9.100000    7.000000   16.000000  \n",
            "75%              0.0    5.000000   11.600000    9.750000   23.000000  \n",
            "max              0.0    8.000000   14.500000   12.000000   31.000000  \n",
            "\n",
            "[8 rows x 22 columns]\n"
          ]
        }
      ]
    },
    {
      "cell_type": "markdown",
      "source": [
        "**2- Create a slice of the dataset with only the numeric columns (you can use the method .select_dtypes(include='number') to help you). You will name this slice: X. This slice X must have 366 rows and 22 columns. Create a second slice with only the column OPINION. You will name this slice y.**"
      ],
      "metadata": {
        "id": "kIXFD6bGEqch"
      }
    },
    {
      "cell_type": "code",
      "source": [
        "# Create a slice X with only the numeric columns\n",
        "X = df.select_dtypes(include='number')\n",
        "\n",
        "# Check the shape of X\n",
        "print(\"X shape: \", X.shape)  # (366, 22)\n",
        "\n",
        "# Create a slice y with only the column 'OPINION'\n",
        "y = df[['OPINION']]\n",
        "\n",
        "# Check the shape of y\n",
        "print(\"y shape: \", y.shape)  # (366, 1)"
      ],
      "metadata": {
        "colab": {
          "base_uri": "https://localhost:8080/"
        },
        "id": "jOLqShAiAT9v",
        "outputId": "e91f265c-05a1-4683-ff8d-88e09c95c79e"
      },
      "execution_count": 99,
      "outputs": [
        {
          "output_type": "stream",
          "name": "stdout",
          "text": [
            "X shape:  (366, 22)\n",
            "y shape:  (366, 1)\n"
          ]
        }
      ]
    },
    {
      "cell_type": "markdown",
      "source": [
        "**3- Use a scaler to scale your data. You will transform your data with this scaler, and save the scaled data in X_scaled, which must also have 366 rows and 22 columns.**"
      ],
      "metadata": {
        "id": "uI0cTTd0Ev_9"
      }
    },
    {
      "cell_type": "code",
      "source": [
        "from sklearn.preprocessing import StandardScaler\n",
        "\n",
        "# Initialize the scaler\n",
        "scaler = StandardScaler()\n",
        "\n",
        "# Fit and transform the scaler on X\n",
        "scaler.fit(X)\n",
        "X_scaled = scaler.transform(X)\n",
        "\n",
        "# Check the shape of X_scaled\n",
        "print(\"X_scaled shape: \", X_scaled.shape)\n"
      ],
      "metadata": {
        "colab": {
          "base_uri": "https://localhost:8080/"
        },
        "id": "u1YM7Jvj8kXS",
        "outputId": "1a750a9e-e340-40a4-ee6f-9e6d04804d86"
      },
      "execution_count": 100,
      "outputs": [
        {
          "output_type": "stream",
          "name": "stdout",
          "text": [
            "X_scaled shape:  (366, 22)\n"
          ]
        }
      ]
    },
    {
      "cell_type": "markdown",
      "source": [
        "**4- Instantiate a pca object, and train it on your standardized data.**"
      ],
      "metadata": {
        "id": "ZZ4EL-pFE2nP"
      }
    },
    {
      "cell_type": "code",
      "source": [
        "from sklearn.decomposition import PCA\n",
        "\n",
        "# Instantiate a PCA object\n",
        "pca = PCA(n_components=2)\n",
        "X_pca = pca.fit_transform(X_scaled)\n",
        "\n",
        "# Fit and transform the PCA on X_scaled\n",
        "pca = PCA()\n",
        "pca.fit(X_scaled)\n",
        "X_pca = pca.transform(X_scaled)\n",
        "X_pca.shape"
      ],
      "metadata": {
        "colab": {
          "base_uri": "https://localhost:8080/"
        },
        "id": "MbOr0S8u9hWr",
        "outputId": "ff876365-b140-4a7a-9aff-464962d7db8d"
      },
      "execution_count": 101,
      "outputs": [
        {
          "output_type": "execute_result",
          "data": {
            "text/plain": [
              "(366, 22)"
            ]
          },
          "metadata": {},
          "execution_count": 101
        }
      ]
    },
    {
      "cell_type": "markdown",
      "source": [
        "**5- How many principal components explain at least 70% of the variance? You can use the attribute pca.explained_variance_ratio_. How about 80%?**"
      ],
      "metadata": {
        "id": "Hx7S8brZFBz0"
      }
    },
    {
      "cell_type": "code",
      "source": [
        "pca.explained_variance_ratio_"
      ],
      "metadata": {
        "colab": {
          "base_uri": "https://localhost:8080/"
        },
        "id": "t07bMGawPkiW",
        "outputId": "a2fa924f-82ec-428d-b0a5-463210cc9e03"
      },
      "execution_count": 102,
      "outputs": [
        {
          "output_type": "execute_result",
          "data": {
            "text/plain": [
              "array([4.09974128e-01, 2.08764137e-01, 6.44852689e-02, 5.96277270e-02,\n",
              "       4.57715483e-02, 3.90945593e-02, 2.96727035e-02, 2.79956895e-02,\n",
              "       2.50111074e-02, 2.23798923e-02, 2.06096373e-02, 1.72091698e-02,\n",
              "       1.06921087e-02, 5.50690832e-03, 5.23972301e-03, 3.80814302e-03,\n",
              "       2.24566722e-03, 7.91559882e-04, 5.45015534e-04, 4.08638014e-04,\n",
              "       1.66668050e-04, 5.24109907e-36])"
            ]
          },
          "metadata": {},
          "execution_count": 102
        }
      ]
    },
    {
      "cell_type": "code",
      "source": [
        "# Find the number of components that explain at least 70% of the variance\n",
        "n_components = sum(pca.explained_variance_ratio_ >= 0.7)\n",
        "print(\"Number of components that explain at least 70% of the variance: \", n_components)"
      ],
      "metadata": {
        "colab": {
          "base_uri": "https://localhost:8080/"
        },
        "id": "9xYu5kzXBUOG",
        "outputId": "2c88111d-ce8d-4a1b-cd08-f2879a3b59aa"
      },
      "execution_count": 103,
      "outputs": [
        {
          "output_type": "stream",
          "name": "stdout",
          "text": [
            "Number of components that explain at least 70% of the variance:  0\n"
          ]
        }
      ]
    },
    {
      "cell_type": "code",
      "source": [
        "# Find the number of components that explain at least 80% of the variance\n",
        "n_components = sum(pca.explained_variance_ratio_ >= 0.8)\n",
        "print(\"Number of components that explain at least 80% of the variance: \", n_components)"
      ],
      "metadata": {
        "colab": {
          "base_uri": "https://localhost:8080/"
        },
        "id": "4TFMWKs9Crvb",
        "outputId": "7e1020f8-bdc4-419f-b807-d43e23e7e9f5"
      },
      "execution_count": 104,
      "outputs": [
        {
          "output_type": "stream",
          "name": "stdout",
          "text": [
            "Number of components that explain at least 80% of the variance:  0\n"
          ]
        }
      ]
    },
    {
      "cell_type": "markdown",
      "source": [
        "**6- Transform your data with pca.fit_transform(X_scaled), and store the result in X_pca. Display on a scatterplot the first 2 columns (those that explain the most variance). Put a different color for each OPINION.**"
      ],
      "metadata": {
        "id": "1ZNYewsjFJwp"
      }
    },
    {
      "cell_type": "code",
      "source": [
        "# fit_transform the data\n",
        "X_pca = pca.fit_transform(X_scaled)\n",
        "\n",
        "# Scatter plot of the first 2 columns of X_pca\n",
        "sns.scatterplot(x=X_pca[:, 0], y=X_pca[:, 1], hue=df['OPINION'])\n",
        "\n",
        "# Add labels and title\n",
        "plt.xlabel('First Principal Component')\n",
        "plt.ylabel('Second Principal Component')\n",
        "plt.title('Scatter plot of the first 2 Principal Components')\n",
        "\n",
        "# show the plot\n",
        "plt.show()\n"
      ],
      "metadata": {
        "colab": {
          "base_uri": "https://localhost:8080/",
          "height": 295
        },
        "id": "5Md-nD3QC_C5",
        "outputId": "4cef5d4e-0629-4ab3-ac4c-15c0483292cc"
      },
      "execution_count": 105,
      "outputs": [
        {
          "output_type": "display_data",
          "data": {
            "text/plain": [
              "<Figure size 432x288 with 1 Axes>"
            ],
            "image/png": "[encoded data removed]"
          },
          "metadata": {
            "needs_background": "light"
          }
        }
      ]
    },
    {
      "cell_type": "markdown",
      "source": [
        "**7- . Run a KNN classification on X_scaled and y. What is your score? Run another KNN classification on the first two columns of X_pca and y. Is the score very different?**"
      ],
      "metadata": {
        "id": "Wey2HZO0FPl3"
      }
    },
    {
      "cell_type": "code",
      "source": [
        "from sklearn.neighbors import KNeighborsClassifier\n",
        "from sklearn.model_selection import train_test_split\n",
        "from sklearn.metrics import accuracy_score\n",
        "\n",
        "# split the data into training and testing sets\n",
        "X_train, X_test, y_train, y_test = train_test_split(X_scaled, y, test_size=0.2, random_state=42)\n",
        "\n",
        "# Instantiate a KNN classifier\n",
        "knn = KNeighborsClassifier(n_neighbors=5)\n",
        "\n",
        "# Fit the classifier to the training data\n",
        "knn.fit(X_train, y_train)\n",
        "\n",
        "# Predict on the test data\n",
        "y_pred = knn.predict(X_test)\n",
        "\n",
        "# Calculate the accuracy score\n",
        "accuracy = accuracy_score(y_test, y_pred)\n",
        "print(\"KNN classification score on X_scaled: \", accuracy)"
      ],
      "metadata": {
        "colab": {
          "base_uri": "https://localhost:8080/"
        },
        "id": "3Eq16JnnEHV5",
        "outputId": "85e67a8c-21af-46a7-95cd-33cabe12eff9"
      },
      "execution_count": 106,
      "outputs": [
        {
          "output_type": "stream",
          "name": "stdout",
          "text": [
            "KNN classification score on X_scaled:  0.7837837837837838\n"
          ]
        },
        {
          "output_type": "stream",
          "name": "stderr",
          "text": [
            "/usr/local/lib/python3.8/dist-packages/sklearn/neighbors/_classification.py:198: DataConversionWarning: A column-vector y was passed when a 1d array was expected. Please change the shape of y to (n_samples,), for example using ravel().\n",
            "  return self._fit(X, y)\n"
          ]
        }
      ]
    },
    {
      "cell_type": "markdown",
      "source": [
        "**To run another KNN classification on the first two columns of X_pca and y, we just need to change the X_train and X_test variable to X_pca[:,:2] and run the same process as above.**"
      ],
      "metadata": {
        "id": "GmTwOy4YFSQW"
      }
    },
    {
      "cell_type": "code",
      "source": [
        "# split the data into training and testing sets\n",
        "X_train, X_test, y_train, y_test = train_test_split(X_pca[:,:2], y, test_size=0.2, random_state=42)\n",
        "\n",
        "# Instantiate a KNN classifier\n",
        "knn = KNeighborsClassifier(n_neighbors=5)\n",
        "\n",
        "# Fit the classifier to the training data\n",
        "knn.fit(X_train, y_train)\n",
        "\n",
        "# Predict on the test data\n",
        "y_pred = knn.predict(X_test)\n",
        "\n",
        "# Calculate the accuracy score\n",
        "accuracy = accuracy_score(y_test, y_pred)\n",
        "print(\"KNN classification score on X_pca: \", accuracy)"
      ],
      "metadata": {
        "colab": {
          "base_uri": "https://localhost:8080/"
        },
        "id": "V8xztsF0ENR4",
        "outputId": "be31641c-b6c9-46ea-b65a-cf1bc995238e"
      },
      "execution_count": 107,
      "outputs": [
        {
          "output_type": "stream",
          "name": "stdout",
          "text": [
            "KNN classification score on X_pca:  0.7567567567567568\n"
          ]
        },
        {
          "output_type": "stream",
          "name": "stderr",
          "text": [
            "/usr/local/lib/python3.8/dist-packages/sklearn/neighbors/_classification.py:198: DataConversionWarning: A column-vector y was passed when a 1d array was expected. Please change the shape of y to (n_samples,), for example using ravel().\n",
            "  return self._fit(X, y)\n"
          ]
        }
      ]
    }
  ]
}