{
  "nbformat": 4,
  "nbformat_minor": 0,
  "metadata": {
    "colab": {
      "provenance": []
    },
    "kernelspec": {
      "name": "python3",
      "display_name": "Python 3"
    }
  },
  "cells": [
    {
      "cell_type": "markdown",
      "metadata": {
        "id": "JnwN3axz4pE4"
      },
      "source": [
        "# Decision Trees\n",
        "Within this challenge, we're going to use decision trees in both a classification sense and a regression sense and visualize each of these representations. In this challenge, we will be using the `mpg` dataset."
      ]
    },
    {
      "cell_type": "markdown",
      "metadata": {
        "id": "K7nAqbRN-FFe"
      },
      "source": [
        "## Regression Trees"
      ]
    },
    {
      "cell_type": "code",
      "metadata": {
        "id": "fv9xluj24jzc",
        "colab": {
          "base_uri": "https://localhost:8080/",
          "height": 424
        },
        "outputId": "1660a2da-fb20-4fbc-94da-950be0853dc8"
      },
      "source": [
        "# Load in the necessary libraries and the dataset\n",
        "import pandas as pd\n",
        "import numpy as np\n",
        "import seaborn as sns\n",
        "from sklearn.model_selection import train_test_split\n",
        "from sklearn import tree\n",
        "from sklearn.metrics import accuracy_score, r2_score\n",
        "import matplotlib.pyplot as plt\n",
        "from sklearn.tree import plot_tree\n",
        "from sklearn.tree import DecisionTreeClassifier\n",
        "from sklearn.tree import DecisionTreeRegressor\n",
        "\n",
        "data = sns.load_dataset(\"mpg\")\n",
        "\n",
        "# Drop the rows with missing values\n",
        "data.dropna(how='all')\n",
        "\n",
        "# Drop the \"name\" column\n",
        "data.drop(columns=[\"name\"], inplace=True)\n",
        "\n",
        "# Transform the \"origin\" column to represent the following:\n",
        "#   USA = 0, Japan = 1, Europe = 2\n",
        "data['origin'] = data['origin'].factorize()[0]\n",
        "data"
      ],
      "execution_count": 99,
      "outputs": [
        {
          "output_type": "execute_result",
          "data": {
            "text/plain": [
              "      mpg  cylinders  displacement  horsepower  weight  acceleration  \\\n",
              "0    18.0          8         307.0       130.0    3504          12.0   \n",
              "1    15.0          8         350.0       165.0    3693          11.5   \n",
              "2    18.0          8         318.0       150.0    3436          11.0   \n",
              "3    16.0          8         304.0       150.0    3433          12.0   \n",
              "4    17.0          8         302.0       140.0    3449          10.5   \n",
              "..    ...        ...           ...         ...     ...           ...   \n",
              "393  27.0          4         140.0        86.0    2790          15.6   \n",
              "394  44.0          4          97.0        52.0    2130          24.6   \n",
              "395  32.0          4         135.0        84.0    2295          11.6   \n",
              "396  28.0          4         120.0        79.0    2625          18.6   \n",
              "397  31.0          4         119.0        82.0    2720          19.4   \n",
              "\n",
              "     model_year  origin  \n",
              "0            70       0  \n",
              "1            70       0  \n",
              "2            70       0  \n",
              "3            70       0  \n",
              "4            70       0  \n",
              "..          ...     ...  \n",
              "393          82       0  \n",
              "394          82       2  \n",
              "395          82       0  \n",
              "396          82       0  \n",
              "397          82       0  \n",
              "\n",
              "[398 rows x 8 columns]"
            ],
            "text/html": [
              "\n",
              "  <div id=\"df-93103b42-2b01-48cd-ad0a-82ee00aabe71\">\n",
              "    <div class=\"colab-df-container\">\n",
              "      <div>\n",
              "<style scoped>\n",
              "    .dataframe tbody tr th:only-of-type {\n",
              "        vertical-align: middle;\n",
              "    }\n",
              "\n",
              "    .dataframe tbody tr th {\n",
              "        vertical-align: top;\n",
              "    }\n",
              "\n",
              "    .dataframe thead th {\n",
              "        text-align: right;\n",
              "    }\n",
              "</style>\n",
              "<table border=\"1\" class=\"dataframe\">\n",
              "  <thead>\n",
              "    <tr style=\"text-align: right;\">\n",
              "      <th></th>\n",
              "      <th>mpg</th>\n",
              "      <th>cylinders</th>\n",
              "      <th>displacement</th>\n",
              "      <th>horsepower</th>\n",
              "      <th>weight</th>\n",
              "      <th>acceleration</th>\n",
              "      <th>model_year</th>\n",
              "      <th>origin</th>\n",
              "    </tr>\n",
              "  </thead>\n",
              "  <tbody>\n",
              "    <tr>\n",
              "      <th>0</th>\n",
              "      <td>18.0</td>\n",
              "      <td>8</td>\n",
              "      <td>307.0</td>\n",
              "      <td>130.0</td>\n",
              "      <td>3504</td>\n",
              "      <td>12.0</td>\n",
              "      <td>70</td>\n",
              "      <td>0</td>\n",
              "    </tr>\n",
              "    <tr>\n",
              "      <th>1</th>\n",
              "      <td>15.0</td>\n",
              "      <td>8</td>\n",
              "      <td>350.0</td>\n",
              "      <td>165.0</td>\n",
              "      <td>3693</td>\n",
              "      <td>11.5</td>\n",
              "      <td>70</td>\n",
              "      <td>0</td>\n",
              "    </tr>\n",
              "    <tr>\n",
              "      <th>2</th>\n",
              "      <td>18.0</td>\n",
              "      <td>8</td>\n",
              "      <td>318.0</td>\n",
              "      <td>150.0</td>\n",
              "      <td>3436</td>\n",
              "      <td>11.0</td>\n",
              "      <td>70</td>\n",
              "      <td>0</td>\n",
              "    </tr>\n",
              "    <tr>\n",
              "      <th>3</th>\n",
              "      <td>16.0</td>\n",
              "      <td>8</td>\n",
              "      <td>304.0</td>\n",
              "      <td>150.0</td>\n",
              "      <td>3433</td>\n",
              "      <td>12.0</td>\n",
              "      <td>70</td>\n",
              "      <td>0</td>\n",
              "    </tr>\n",
              "    <tr>\n",
              "      <th>4</th>\n",
              "      <td>17.0</td>\n",
              "      <td>8</td>\n",
              "      <td>302.0</td>\n",
              "      <td>140.0</td>\n",
              "      <td>3449</td>\n",
              "      <td>10.5</td>\n",
              "      <td>70</td>\n",
              "      <td>0</td>\n",
              "    </tr>\n",
              "    <tr>\n",
              "      <th>...</th>\n",
              "      <td>...</td>\n",
              "      <td>...</td>\n",
              "      <td>...</td>\n",
              "      <td>...</td>\n",
              "      <td>...</td>\n",
              "      <td>...</td>\n",
              "      <td>...</td>\n",
              "      <td>...</td>\n",
              "    </tr>\n",
              "    <tr>\n",
              "      <th>393</th>\n",
              "      <td>27.0</td>\n",
              "      <td>4</td>\n",
              "      <td>140.0</td>\n",
              "      <td>86.0</td>\n",
              "      <td>2790</td>\n",
              "      <td>15.6</td>\n",
              "      <td>82</td>\n",
              "      <td>0</td>\n",
              "    </tr>\n",
              "    <tr>\n",
              "      <th>394</th>\n",
              "      <td>44.0</td>\n",
              "      <td>4</td>\n",
              "      <td>97.0</td>\n",
              "      <td>52.0</td>\n",
              "      <td>2130</td>\n",
              "      <td>24.6</td>\n",
              "      <td>82</td>\n",
              "      <td>2</td>\n",
              "    </tr>\n",
              "    <tr>\n",
              "      <th>395</th>\n",
              "      <td>32.0</td>\n",
              "      <td>4</td>\n",
              "      <td>135.0</td>\n",
              "      <td>84.0</td>\n",
              "      <td>2295</td>\n",
              "      <td>11.6</td>\n",
              "      <td>82</td>\n",
              "      <td>0</td>\n",
              "    </tr>\n",
              "    <tr>\n",
              "      <th>396</th>\n",
              "      <td>28.0</td>\n",
              "      <td>4</td>\n",
              "      <td>120.0</td>\n",
              "      <td>79.0</td>\n",
              "      <td>2625</td>\n",
              "      <td>18.6</td>\n",
              "      <td>82</td>\n",
              "      <td>0</td>\n",
              "    </tr>\n",
              "    <tr>\n",
              "      <th>397</th>\n",
              "      <td>31.0</td>\n",
              "      <td>4</td>\n",
              "      <td>119.0</td>\n",
              "      <td>82.0</td>\n",
              "      <td>2720</td>\n",
              "      <td>19.4</td>\n",
              "      <td>82</td>\n",
              "      <td>0</td>\n",
              "    </tr>\n",
              "  </tbody>\n",
              "</table>\n",
              "<p>398 rows × 8 columns</p>\n",
              "</div>\n",
              "      <button class=\"colab-df-convert\" onclick=\"convertToInteractive('df-93103b42-2b01-48cd-ad0a-82ee00aabe71')\"\n",
              "              title=\"Convert this dataframe to an interactive table.\"\n",
              "              style=\"display:none;\">\n",
              "        \n",
              "  <svg xmlns=\"http://www.w3.org/2000/svg\" height=\"24px\"viewBox=\"0 0 24 24\"\n",
              "       width=\"24px\">\n",
              "    <path d=\"M0 0h24v24H0V0z\" fill=\"none\"/>\n",
              "    <path d=\"M18.56 5.44l.94 2.06.94-2.06 2.06-.94-2.06-.94-.94-2.06-.94 2.06-2.06.94zm-11 1L8.5 8.5l.94-2.06 2.06-.94-2.06-.94L8.5 2.5l-.94 2.06-2.06.94zm10 10l.94 2.06.94-2.06 2.06-.94-2.06-.94-.94-2.06-.94 2.06-2.06.94z\"/><path d=\"M17.41 7.96l-1.37-1.37c-.4-.4-.92-.59-1.43-.59-.52 0-1.04.2-1.43.59L10.3 9.45l-7.72 7.72c-.78.78-.78 2.05 0 2.83L4 21.41c.39.39.9.59 1.41.59.51 0 1.02-.2 1.41-.59l7.78-7.78 2.81-2.81c.8-.78.8-2.07 0-2.86zM5.41 20L4 18.59l7.72-7.72 1.47 1.35L5.41 20z\"/>\n",
              "  </svg>\n",
              "      </button>\n",
              "      \n",
              "  <style>\n",
              "    .colab-df-container {\n",
              "      display:flex;\n",
              "      flex-wrap:wrap;\n",
              "      gap: 12px;\n",
              "    }\n",
              "\n",
              "    .colab-df-convert {\n",
              "      background-color: #E8F0FE;\n",
              "      border: none;\n",
              "      border-radius: 50%;\n",
              "      cursor: pointer;\n",
              "      display: none;\n",
              "      fill: #1967D2;\n",
              "      height: 32px;\n",
              "      padding: 0 0 0 0;\n",
              "      width: 32px;\n",
              "    }\n",
              "\n",
              "    .colab-df-convert:hover {\n",
              "      background-color: #E2EBFA;\n",
              "      box-shadow: 0px 1px 2px rgba(60, 64, 67, 0.3), 0px 1px 3px 1px rgba(60, 64, 67, 0.15);\n",
              "      fill: #174EA6;\n",
              "    }\n",
              "\n",
              "    [theme=dark] .colab-df-convert {\n",
              "      background-color: #3B4455;\n",
              "      fill: #D2E3FC;\n",
              "    }\n",
              "\n",
              "    [theme=dark] .colab-df-convert:hover {\n",
              "      background-color: #434B5C;\n",
              "      box-shadow: 0px 1px 3px 1px rgba(0, 0, 0, 0.15);\n",
              "      filter: drop-shadow(0px 1px 2px rgba(0, 0, 0, 0.3));\n",
              "      fill: #FFFFFF;\n",
              "    }\n",
              "  </style>\n",
              "\n",
              "      <script>\n",
              "        const buttonEl =\n",
              "          document.querySelector('#df-93103b42-2b01-48cd-ad0a-82ee00aabe71 button.colab-df-convert');\n",
              "        buttonEl.style.display =\n",
              "          google.colab.kernel.accessAllowed ? 'block' : 'none';\n",
              "\n",
              "        async function convertToInteractive(key) {\n",
              "          const element = document.querySelector('#df-93103b42-2b01-48cd-ad0a-82ee00aabe71');\n",
              "          const dataTable =\n",
              "            await google.colab.kernel.invokeFunction('convertToInteractive',\n",
              "                                                     [key], {});\n",
              "          if (!dataTable) return;\n",
              "\n",
              "          const docLinkHtml = 'Like what you see? Visit the ' +\n",
              "            '<a target=\"_blank\" href=https://colab.research.google.com/notebooks/data_table.ipynb>data table notebook</a>'\n",
              "            + ' to learn more about interactive tables.';\n",
              "          element.innerHTML = '';\n",
              "          dataTable['output_type'] = 'display_data';\n",
              "          await google.colab.output.renderOutput(dataTable, element);\n",
              "          const docLink = document.createElement('div');\n",
              "          docLink.innerHTML = docLinkHtml;\n",
              "          element.appendChild(docLink);\n",
              "        }\n",
              "      </script>\n",
              "    </div>\n",
              "  </div>\n",
              "  "
            ]
          },
          "metadata": {},
          "execution_count": 99
        }
      ]
    },
    {
      "cell_type": "code",
      "metadata": {
        "id": "rZ43TkkL4mqv",
        "colab": {
          "base_uri": "https://localhost:8080/"
        },
        "outputId": "39d08e99-d69a-4293-9771-d2f5ba3be753"
      },
      "source": [
        "# Split into train and test splits using the \"mpg\" column as target, random state of 42 and a test size of 20%\n",
        "# INSERT CODE HERE\n",
        "\n",
        "data = data[data['horsepower'].notnull()]\n",
        "\n",
        "X = data[['cylinders', 'displacement', 'weight',  'horsepower', 'acceleration',\t'model_year',\t'origin']]\n",
        "#X = data.select_dtypes(include=np.number)\n",
        "y = data['mpg']\n",
        "\n",
        "X_train, X_test, y_train, y_test = train_test_split(X, y, train_size= 0.8, random_state=42)\n",
        "\n",
        "print(\"The length of the initial dataset is :\", len(X))\n",
        "print(\"The length of the train dataset is   :\", len(X_train))\n",
        "print(\"The length of the test dataset is    :\", len(X_test))"
      ],
      "execution_count": 100,
      "outputs": [
        {
          "output_type": "stream",
          "name": "stdout",
          "text": [
            "The length of the initial dataset is : 392\n",
            "The length of the train dataset is   : 313\n",
            "The length of the test dataset is    : 79\n"
          ]
        }
      ]
    },
    {
      "cell_type": "code",
      "metadata": {
        "id": "OuXrepbF5uca",
        "colab": {
          "base_uri": "https://localhost:8080/"
        },
        "outputId": "8fc8eb75-3f17-435b-aab2-d04b6a8573ac"
      },
      "source": [
        "# Fit a decision tree\n",
        "# INSERT CODE HERE\n",
        "\n",
        "\n",
        "modelDTR = DecisionTreeRegressor()\n",
        "modelDTR.fit(X_train, y_train)"
      ],
      "execution_count": 101,
      "outputs": [
        {
          "output_type": "execute_result",
          "data": {
            "text/plain": [
              "DecisionTreeRegressor()"
            ]
          },
          "metadata": {},
          "execution_count": 101
        }
      ]
    },
    {
      "cell_type": "code",
      "metadata": {
        "id": "9iDodpFq6TLD",
        "colab": {
          "base_uri": "https://localhost:8080/"
        },
        "outputId": "b19b55c5-e502-44bd-b289-aaa88adab638"
      },
      "source": [
        "# Predict on the xtest set\n",
        "# INSERT CODE HERE\n",
        "\n",
        "modelDTR.predict(X_test)"
      ],
      "execution_count": 102,
      "outputs": [
        {
          "output_type": "execute_result",
          "data": {
            "text/plain": [
              "array([23. , 19. , 31. , 33. , 27.9, 28. , 11. , 31.5, 18. , 31. , 15. ,\n",
              "       17. , 17.5, 28. , 17. , 27. , 18. , 32.4, 36.4, 37. , 23.8, 36. ,\n",
              "       31. , 17. , 31. , 28. , 18. , 18. , 26. , 25. , 16. , 20.2, 23.9,\n",
              "       28. , 14. , 31. ,  9. , 23. , 14. , 13. , 14. , 28. , 34. , 25. ,\n",
              "       16. , 11. , 22. , 44.3, 25. , 33. , 14. , 22. , 22. , 37. , 38. ,\n",
              "       16. , 18. , 19. , 24. , 22. , 12. , 22. , 28.8, 22. , 23.9, 26. ,\n",
              "       25.5, 33. , 23.9, 14. , 25. , 14. , 23.8, 19. , 20.8, 24. , 13. ,\n",
              "       18. , 24. ])"
            ]
          },
          "metadata": {},
          "execution_count": 102
        }
      ]
    },
    {
      "cell_type": "code",
      "metadata": {
        "id": "b_tMkB6d6kxo",
        "colab": {
          "base_uri": "https://localhost:8080/"
        },
        "outputId": "c6ed92aa-6003-4368-a816-b516a57bf538"
      },
      "source": [
        "# Print out the R2 score.\n",
        "# INSERT CODE HERE\n",
        "\n",
        "modelDTR.score(X_train, y_train), modelDTR.score(X_test, y_test)"
      ],
      "execution_count": 103,
      "outputs": [
        {
          "output_type": "execute_result",
          "data": {
            "text/plain": [
              "(1.0, 0.7475079445783801)"
            ]
          },
          "metadata": {},
          "execution_count": 103
        }
      ]
    },
    {
      "cell_type": "code",
      "metadata": {
        "id": "4BEgnReTNC0a",
        "colab": {
          "base_uri": "https://localhost:8080/"
        },
        "outputId": "a816436f-5882-47b0-a5b7-c8b6a3c40fb8"
      },
      "source": [
        "# Print each feature with importance %\n",
        "# INSERT CODE HERE\n",
        "\n",
        "modelDTR.feature_importances_"
      ],
      "execution_count": 104,
      "outputs": [
        {
          "output_type": "execute_result",
          "data": {
            "text/plain": [
              "array([0.00274574, 0.63160233, 0.06446456, 0.17013862, 0.02472841,\n",
              "       0.10261379, 0.00370655])"
            ]
          },
          "metadata": {},
          "execution_count": 104
        }
      ]
    },
    {
      "cell_type": "code",
      "metadata": {
        "id": "HDnykI_M65hZ",
        "colab": {
          "base_uri": "https://localhost:8080/",
          "height": 575
        },
        "outputId": "c32e4e3a-a4ba-459e-ca05-30390333c7b6"
      },
      "source": [
        "# Plot the results\n",
        "# Use column names as feature names and a max_depth of only 2\n",
        "# INSERT CODE HERE\n",
        "\n",
        "plt.figure(figsize = (10,10))\n",
        "plot_tree( modelDTR,\n",
        "          filled = True, \n",
        "          feature_names=X_train.columns,\n",
        "          max_depth = 2 )\n",
        "plt.show()"
      ],
      "execution_count": 105,
      "outputs": [
        {
          "output_type": "display_data",
          "data": {
            "text/plain": [
              "<Figure size 720x720 with 1 Axes>"
            ],
            "image/png": "[encoded data removed]"
          },
          "metadata": {
            "needs_background": "light"
          }
        }
      ]
    },
    {
      "cell_type": "markdown",
      "metadata": {
        "id": "RGU1DS3h-OKm"
      },
      "source": [
        "## Classification Trees"
      ]
    },
    {
      "cell_type": "code",
      "metadata": {
        "id": "Z0aZESh28zlI",
        "colab": {
          "base_uri": "https://localhost:8080/"
        },
        "outputId": "b6242a13-c70d-46b0-dbac-f25907d74a52"
      },
      "source": [
        "# Load in the Penguins dataset\n",
        "data = sns.load_dataset('penguins')\n",
        "\n",
        "# Drop rows with missing values\n",
        "# Turn the species column into numeric\n",
        "# Specifically, Adelie = 0, Chinstrap = 1, and Gentoo = 2\n",
        "\n",
        "# Turn the island column into numeric\n",
        "# Specifically, Torgersen = 0, Biscoe = 1, Dream = 2\n",
        "\n",
        "# INSERT CODE HERE\n",
        "data.dropna(inplace=True)\n",
        "data['species'] = data['species'].factorize()[0]\n",
        "data['island'] = data['island'].factorize()[0]\n",
        "data.columns"
      ],
      "execution_count": 85,
      "outputs": [
        {
          "output_type": "execute_result",
          "data": {
            "text/plain": [
              "Index(['species', 'island', 'bill_length_mm', 'bill_depth_mm',\n",
              "       'flipper_length_mm', 'body_mass_g', 'sex'],\n",
              "      dtype='object')"
            ]
          },
          "metadata": {},
          "execution_count": 85
        }
      ]
    },
    {
      "cell_type": "code",
      "metadata": {
        "id": "aWLsB2cu-i-F",
        "colab": {
          "base_uri": "https://localhost:8080/"
        },
        "outputId": "d73ac1ec-a4d0-49c5-efad-18f5d9840181"
      },
      "source": [
        "# Using a random state of 42 and a test size of 0.20, as well as \"sex\" as the output, split in training and testing sets\n",
        "# INSERT CODE HERE\n",
        "y = data['sex']\n",
        "X = data[['species',\n",
        "          'island',\n",
        "          'bill_length_mm',\n",
        "          'bill_depth_mm',\n",
        "       'flipper_length_mm',\n",
        "       'body_mass_g',\n",
        "       ]]\n",
        "X_train, X_test, y_train, y_test = train_test_split(X, y, train_size = 0.80, random_state = 42, shuffle = True)\n",
        "\n",
        "print(\"The length of the initial dataset is :\", len(X))\n",
        "print(\"The length of the train dataset is   :\", len(X_train))\n",
        "print(\"The length of the test dataset is    :\", len(X_test))"
      ],
      "execution_count": 86,
      "outputs": [
        {
          "output_type": "stream",
          "name": "stdout",
          "text": [
            "The length of the initial dataset is : 333\n",
            "The length of the train dataset is   : 266\n",
            "The length of the test dataset is    : 67\n"
          ]
        }
      ]
    },
    {
      "cell_type": "code",
      "metadata": {
        "id": "YmGmYzoP-pQa",
        "colab": {
          "base_uri": "https://localhost:8080/"
        },
        "outputId": "7ab1b9e0-7048-40f0-8692-65ecec186a37"
      },
      "source": [
        "# Using a random state of 42, fit the classification tree.\n",
        "# INSERT CODE HERE\n",
        "\n",
        "modelDTC = DecisionTreeClassifier()\n",
        "modelDTC.fit(X_train, y_train)\n"
      ],
      "execution_count": 87,
      "outputs": [
        {
          "output_type": "execute_result",
          "data": {
            "text/plain": [
              "DecisionTreeClassifier()"
            ]
          },
          "metadata": {},
          "execution_count": 87
        }
      ]
    },
    {
      "cell_type": "code",
      "metadata": {
        "id": "uXSdrpxN-3vL",
        "colab": {
          "base_uri": "https://localhost:8080/"
        },
        "outputId": "e1d0d15f-b5b7-42fb-d6d0-730afd0c330d"
      },
      "source": [
        "# Print the predictions on the test set\n",
        "# INSERT CODE HERE\n",
        "\n",
        "modelDTC.predict(X_test)"
      ],
      "execution_count": 88,
      "outputs": [
        {
          "output_type": "execute_result",
          "data": {
            "text/plain": [
              "array(['Female', 'Female', 'Male', 'Male', 'Male', 'Female', 'Male',\n",
              "       'Male', 'Female', 'Male', 'Male', 'Female', 'Female', 'Female',\n",
              "       'Female', 'Female', 'Female', 'Female', 'Male', 'Female', 'Male',\n",
              "       'Female', 'Male', 'Male', 'Female', 'Female', 'Female', 'Female',\n",
              "       'Female', 'Male', 'Female', 'Male', 'Male', 'Female', 'Male',\n",
              "       'Female', 'Female', 'Female', 'Female', 'Female', 'Female',\n",
              "       'Female', 'Female', 'Female', 'Female', 'Female', 'Male', 'Male',\n",
              "       'Male', 'Female', 'Female', 'Male', 'Female', 'Female', 'Male',\n",
              "       'Male', 'Female', 'Male', 'Male', 'Male', 'Male', 'Male', 'Female',\n",
              "       'Female', 'Female', 'Male', 'Female'], dtype=object)"
            ]
          },
          "metadata": {},
          "execution_count": 88
        }
      ]
    },
    {
      "cell_type": "code",
      "metadata": {
        "id": "atjtKZc2--lb",
        "colab": {
          "base_uri": "https://localhost:8080/"
        },
        "outputId": "011db307-e9e2-4881-8fab-2b54ddc6698f"
      },
      "source": [
        "# Print the accuracy score for the predictions\n",
        "# INSERT CODE HERE\n",
        "\n",
        "modelDTC.score(X_train, y_train), modelDTC.score(X_test, y_test)"
      ],
      "execution_count": 89,
      "outputs": [
        {
          "output_type": "execute_result",
          "data": {
            "text/plain": [
              "(1.0, 0.8656716417910447)"
            ]
          },
          "metadata": {},
          "execution_count": 89
        }
      ]
    },
    {
      "cell_type": "code",
      "metadata": {
        "id": "WSZkduulNPmS",
        "colab": {
          "base_uri": "https://localhost:8080/"
        },
        "outputId": "89933cba-2992-4017-ab0c-29f2643f4033"
      },
      "source": [
        "# Print each feature with importance %\n",
        "# INSERT CODE HERE\n",
        "\n",
        "modelDTC.feature_importances_"
      ],
      "execution_count": 90,
      "outputs": [
        {
          "output_type": "execute_result",
          "data": {
            "text/plain": [
              "array([0.00752944, 0.        , 0.06872814, 0.4880512 , 0.03538836,\n",
              "       0.40030287])"
            ]
          },
          "metadata": {},
          "execution_count": 90
        }
      ]
    },
    {
      "cell_type": "code",
      "metadata": {
        "id": "joRDKtn-_ENF",
        "colab": {
          "base_uri": "https://localhost:8080/",
          "height": 575
        },
        "outputId": "2ba7a85b-0f17-4d55-966a-bd605eff4a1e"
      },
      "source": [
        "# Plot the results\n",
        "# Use column names as feature names and a max_depth of only 2\n",
        "# INSERT CODE HERE\n",
        "\n",
        "from sklearn.tree import plot_tree\n",
        "\n",
        "plt.figure(figsize = (10,10))\n",
        "plot_tree(modelDTC,\n",
        "          filled = True, \n",
        "          feature_names=X_train.columns,\n",
        "          max_depth = 2 )\n",
        "plt.show()"
      ],
      "execution_count": 93,
      "outputs": [
        {
          "output_type": "display_data",
          "data": {
            "text/plain": [
              "<Figure size 720x720 with 1 Axes>"
            ],
            "image/png": "[encoded data removed]"
          },
          "metadata": {
            "needs_background": "light"
          }
        }
      ]
    },
    {
      "cell_type": "markdown",
      "metadata": {
        "id": "-MwQJOzMBOZq"
      },
      "source": [
        "# Effects of Changing the Maximum Depth\n",
        "In this section, we're going to see how changing the max_depth, which is one of the most important hyperparameters when it comes to decision trees, plays a part in the prediction accuracy.\n",
        "\n",
        "*** This exercise is only done for you to see how big of an impact choosing the correct max_depth is!*** Choosing the correct max_depth (or any other hyperparameter for that matter) is typically done using cross validation or a more advanced technique (Grid Search, Random Search, Bayesian Optimization).\n"
      ]
    },
    {
      "cell_type": "markdown",
      "metadata": {
        "id": "LyOwrYUuCLnX"
      },
      "source": [
        "Using the above dataset, fit and predict the train and test sets using a max_depth from 1 to 10. For example, within the first iteration, you would fit the xtrain and ytrain datasets using max_depth=1, predict the xtest using this model, and then record the accuracy. On the next iteration, the max_depth would then be 2, etc."
      ]
    },
    {
      "cell_type": "code",
      "metadata": {
        "id": "aTMJDwLJB9rS",
        "colab": {
          "base_uri": "https://localhost:8080/"
        },
        "outputId": "e7d9598c-8c37-4490-a9a8-ba433d58eb05"
      },
      "source": [
        "# Using a random state of 42, fit multiple decision trees with various max depths.\n",
        "# Record these accuracies in a list (i.e. list_of_accuracies.append(accuracy))\n",
        "list_of_accuracies = []\n",
        "for i in range(1, 11):\n",
        "  # INSERT CODE HERE\n",
        "  modelDTC = DecisionTreeClassifier(max_depth = i)\n",
        "  modelDTC.fit(X_train, y_train)\n",
        "  accuracy = modelDTC.score(X_test, y_test)\n",
        "  list_of_accuracies.append(accuracy)\n",
        "print(f'{list_of_accuracies}')"
      ],
      "execution_count": 94,
      "outputs": [
        {
          "output_type": "stream",
          "name": "stdout",
          "text": [
            "[0.7014925373134329, 0.8208955223880597, 0.835820895522388, 0.8656716417910447, 0.8656716417910447, 0.8208955223880597, 0.8507462686567164, 0.835820895522388, 0.835820895522388, 0.8656716417910447]\n"
          ]
        }
      ]
    },
    {
      "cell_type": "code",
      "metadata": {
        "id": "pVMDMl9fC5ZO",
        "colab": {
          "base_uri": "https://localhost:8080/",
          "height": 282
        },
        "outputId": "7c5d3a5c-076d-449e-9d98-bb2e8636dab1"
      },
      "source": [
        "# Plot these accuracies using matplotlib with the accuracies on the y-axis and the max_depth on the x-axis.\n",
        "# INSERT CODE HERE\n",
        "\n",
        "plt.scatter(range(1, 11), list_of_accuracies)"
      ],
      "execution_count": 95,
      "outputs": [
        {
          "output_type": "execute_result",
          "data": {
            "text/plain": [
              "<matplotlib.collections.PathCollection at 0x7fa5c8c7ab20>"
            ]
          },
          "metadata": {},
          "execution_count": 95
        },
        {
          "output_type": "display_data",
          "data": {
            "text/plain": [
              "<Figure size 432x288 with 1 Axes>"
            ],
            "image/png": "[encoded data removed]"
          },
          "metadata": {
            "needs_background": "light"
          }
        }
      ]
    }
  ]
}